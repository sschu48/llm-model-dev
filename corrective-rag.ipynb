{
 "cells": [
  {
   "cell_type": "markdown",
   "metadata": {},
   "source": [
    "# Corrective RAG\n",
    "\n",
    "Using llama-agents for rapid iteration\n",
    "based off of the paper [Corrective Retrieval Augmented Generation](https://arxiv.org/abs/2401.15884)\n",
    "\n",
    "*THIS IS STILL UNDER DEVELOPMENT*"
   ]
  },
  {
   "cell_type": "code",
   "execution_count": 1,
   "metadata": {},
   "outputs": [],
   "source": [
    "import nest_asyncio\n",
    "\n",
    "nest_asyncio.apply()"
   ]
  },
  {
   "cell_type": "code",
   "execution_count": 5,
   "metadata": {},
   "outputs": [],
   "source": [
    "import os\n",
    "\n",
    "openai_api_key = os.environ.get(\"OPENAI_API_KEY\")\n",
    "pinecone_api_key = os.environ.get(\"PINECONE_API_KEY\")\n",
    "index_name = \"rag-retriever-v2\""
   ]
  },
  {
   "cell_type": "markdown",
   "metadata": {},
   "source": [
    "## setup data, indexes and tools\n",
    "\n",
    "- setup pinecone db so we can use to retrieve context\n",
    "- setup web search tool (Tavily)"
   ]
  },
  {
   "cell_type": "code",
   "execution_count": 8,
   "metadata": {},
   "outputs": [
    {
     "ename": "ModuleNotFoundError",
     "evalue": "No module named 'llama_index.retrievers'",
     "output_type": "error",
     "traceback": [
      "\u001b[0;31m---------------------------------------------------------------------------\u001b[0m",
      "\u001b[0;31mModuleNotFoundError\u001b[0m                       Traceback (most recent call last)",
      "Cell \u001b[0;32mIn[8], line 3\u001b[0m\n\u001b[1;32m      1\u001b[0m \u001b[38;5;28;01mfrom\u001b[39;00m \u001b[38;5;21;01magentic_rag\u001b[39;00m \u001b[38;5;28;01mimport\u001b[39;00m pinecone_init, vectorstore_init\n\u001b[1;32m      2\u001b[0m \u001b[38;5;28;01mfrom\u001b[39;00m \u001b[38;5;21;01mllama_index\u001b[39;00m\u001b[38;5;21;01m.\u001b[39;00m\u001b[38;5;21;01mcore\u001b[39;00m \u001b[38;5;28;01mimport\u001b[39;00m VectorStoreIndex\n\u001b[0;32m----> 3\u001b[0m \u001b[38;5;28;01mfrom\u001b[39;00m \u001b[38;5;21;01mllama_index\u001b[39;00m\u001b[38;5;21;01m.\u001b[39;00m\u001b[38;5;21;01mretrievers\u001b[39;00m \u001b[38;5;28;01mimport\u001b[39;00m VectorIndexRetriever\n\u001b[1;32m      5\u001b[0m index \u001b[38;5;241m=\u001b[39m pinecone_init(index_name\u001b[38;5;241m=\u001b[39mindex_name, pinecone_api_key\u001b[38;5;241m=\u001b[39mpinecone_api_key)\n\u001b[1;32m      6\u001b[0m vector_store \u001b[38;5;241m=\u001b[39m vectorstore_init(pinecone_index\u001b[38;5;241m=\u001b[39mindex)\n",
      "\u001b[0;31mModuleNotFoundError\u001b[0m: No module named 'llama_index.retrievers'"
     ]
    }
   ],
   "source": [
    "from agentic_rag import pinecone_init, vectorstore_init\n",
    "from llama_index.core import VectorStoreIndex\n",
    "from llama_index.retrievers import VectorIndexRetriever\n",
    "\n",
    "index = pinecone_init(index_name=index_name, pinecone_api_key=pinecone_api_key)\n",
    "vector_store = vectorstore_init(pinecone_index=index)\n"
   ]
  },
  {
   "cell_type": "code",
   "execution_count": null,
   "metadata": {},
   "outputs": [],
   "source": []
  }
 ],
 "metadata": {
  "kernelspec": {
   "display_name": "llama-index",
   "language": "python",
   "name": "python3"
  },
  "language_info": {
   "codemirror_mode": {
    "name": "ipython",
    "version": 3
   },
   "file_extension": ".py",
   "mimetype": "text/x-python",
   "name": "python",
   "nbconvert_exporter": "python",
   "pygments_lexer": "ipython3",
   "version": "3.10.14"
  }
 },
 "nbformat": 4,
 "nbformat_minor": 2
}
